{
  "nbformat": 4,
  "nbformat_minor": 0,
  "metadata": {
    "colab": {
      "provenance": []
    },
    "kernelspec": {
      "name": "python3",
      "display_name": "Python 3"
    },
    "language_info": {
      "name": "python"
    }
  },
  "cells": [
    {
      "cell_type": "markdown",
      "source": [
        "# **OpenAI API**\n",
        "\n",
        "This OpenAI API shows how to interact with the API for tasks like summarization, building conversational agents, data cleaning, data mapping, and performing analytics."
      ],
      "metadata": {
        "id": "GUW9iBbNWt2R"
      }
    },
    {
      "cell_type": "markdown",
      "source": [
        "### **Step 1: Set Up Google Colab and Install Required Libraries**\n",
        "\n",
        "First, we need to install the OpenAI Python client library."
      ],
      "metadata": {
        "id": "UAIuj6voF87w"
      }
    },
    {
      "cell_type": "code",
      "source": [
        "!pip install openai"
      ],
      "metadata": {
        "colab": {
          "base_uri": "https://localhost:8080/"
        },
        "id": "OPu7xCz9F9Dn",
        "outputId": "5680c35d-c079-44b8-fff0-4f1639a8a739"
      },
      "execution_count": null,
      "outputs": [
        {
          "output_type": "stream",
          "name": "stdout",
          "text": [
            "Collecting openai\n",
            "  Downloading openai-1.43.0-py3-none-any.whl.metadata (22 kB)\n",
            "Requirement already satisfied: anyio<5,>=3.5.0 in /usr/local/lib/python3.10/dist-packages (from openai) (3.7.1)\n",
            "Requirement already satisfied: distro<2,>=1.7.0 in /usr/lib/python3/dist-packages (from openai) (1.7.0)\n",
            "Collecting httpx<1,>=0.23.0 (from openai)\n",
            "  Downloading httpx-0.27.2-py3-none-any.whl.metadata (7.1 kB)\n",
            "Collecting jiter<1,>=0.4.0 (from openai)\n",
            "  Downloading jiter-0.5.0-cp310-cp310-manylinux_2_17_x86_64.manylinux2014_x86_64.whl.metadata (3.6 kB)\n",
            "Requirement already satisfied: pydantic<3,>=1.9.0 in /usr/local/lib/python3.10/dist-packages (from openai) (2.8.2)\n",
            "Requirement already satisfied: sniffio in /usr/local/lib/python3.10/dist-packages (from openai) (1.3.1)\n",
            "Requirement already satisfied: tqdm>4 in /usr/local/lib/python3.10/dist-packages (from openai) (4.66.5)\n",
            "Requirement already satisfied: typing-extensions<5,>=4.11 in /usr/local/lib/python3.10/dist-packages (from openai) (4.12.2)\n",
            "Requirement already satisfied: idna>=2.8 in /usr/local/lib/python3.10/dist-packages (from anyio<5,>=3.5.0->openai) (3.8)\n",
            "Requirement already satisfied: exceptiongroup in /usr/local/lib/python3.10/dist-packages (from anyio<5,>=3.5.0->openai) (1.2.2)\n",
            "Requirement already satisfied: certifi in /usr/local/lib/python3.10/dist-packages (from httpx<1,>=0.23.0->openai) (2024.7.4)\n",
            "Collecting httpcore==1.* (from httpx<1,>=0.23.0->openai)\n",
            "  Downloading httpcore-1.0.5-py3-none-any.whl.metadata (20 kB)\n",
            "Collecting h11<0.15,>=0.13 (from httpcore==1.*->httpx<1,>=0.23.0->openai)\n",
            "  Downloading h11-0.14.0-py3-none-any.whl.metadata (8.2 kB)\n",
            "Requirement already satisfied: annotated-types>=0.4.0 in /usr/local/lib/python3.10/dist-packages (from pydantic<3,>=1.9.0->openai) (0.7.0)\n",
            "Requirement already satisfied: pydantic-core==2.20.1 in /usr/local/lib/python3.10/dist-packages (from pydantic<3,>=1.9.0->openai) (2.20.1)\n",
            "Downloading openai-1.43.0-py3-none-any.whl (365 kB)\n",
            "\u001b[2K   \u001b[90m━━━━━━━━━━━━━━━━━━━━━━━━━━━━━━━━━━━━━━━━\u001b[0m \u001b[32m365.7/365.7 kB\u001b[0m \u001b[31m12.8 MB/s\u001b[0m eta \u001b[36m0:00:00\u001b[0m\n",
            "\u001b[?25hDownloading httpx-0.27.2-py3-none-any.whl (76 kB)\n",
            "\u001b[2K   \u001b[90m━━━━━━━━━━━━━━━━━━━━━━━━━━━━━━━━━━━━━━━━\u001b[0m \u001b[32m76.4/76.4 kB\u001b[0m \u001b[31m2.3 MB/s\u001b[0m eta \u001b[36m0:00:00\u001b[0m\n",
            "\u001b[?25hDownloading httpcore-1.0.5-py3-none-any.whl (77 kB)\n",
            "\u001b[2K   \u001b[90m━━━━━━━━━━━━━━━━━━━━━━━━━━━━━━━━━━━━━━━━\u001b[0m \u001b[32m77.9/77.9 kB\u001b[0m \u001b[31m3.0 MB/s\u001b[0m eta \u001b[36m0:00:00\u001b[0m\n",
            "\u001b[?25hDownloading jiter-0.5.0-cp310-cp310-manylinux_2_17_x86_64.manylinux2014_x86_64.whl (318 kB)\n",
            "\u001b[2K   \u001b[90m━━━━━━━━━━━━━━━━━━━━━━━━━━━━━━━━━━━━━━━━\u001b[0m \u001b[32m318.9/318.9 kB\u001b[0m \u001b[31m13.8 MB/s\u001b[0m eta \u001b[36m0:00:00\u001b[0m\n",
            "\u001b[?25hDownloading h11-0.14.0-py3-none-any.whl (58 kB)\n",
            "\u001b[2K   \u001b[90m━━━━━━━━━━━━━━━━━━━━━━━━━━━━━━━━━━━━━━━━\u001b[0m \u001b[32m58.3/58.3 kB\u001b[0m \u001b[31m1.2 MB/s\u001b[0m eta \u001b[36m0:00:00\u001b[0m\n",
            "\u001b[?25hInstalling collected packages: jiter, h11, httpcore, httpx, openai\n",
            "Successfully installed h11-0.14.0 httpcore-1.0.5 httpx-0.27.2 jiter-0.5.0 openai-1.43.0\n"
          ]
        }
      ]
    },
    {
      "cell_type": "markdown",
      "source": [
        "### **Step 2: Import Necessary Libraries and Set Up API Key**\n",
        "\n",
        "Import the OpenAI library and set your API key. Replace `\"your-api-key\"` with your actual OpenAI API key."
      ],
      "metadata": {
        "id": "kwma1cc_DxM3"
      }
    },
    {
      "cell_type": "code",
      "source": [
        "import os\n",
        "import openai\n",
        "\n",
        "# Set your OpenAI API key\n",
        "client = openai.OpenAI(\n",
        "    # This is the default and can be omitted\n",
        "    api_key=\"OPENAI_API_KEY\",\n",
        ")"
      ],
      "metadata": {
        "id": "l91KUSXKDxUR"
      },
      "execution_count": null,
      "outputs": []
    },
    {
      "cell_type": "markdown",
      "source": [
        "### **Step 3: Example 1 - Summarization**\n",
        "\n",
        "Let’s start by summarizing a long text into a concise summary."
      ],
      "metadata": {
        "id": "b-AZhoUnEvkw"
      }
    },
    {
      "cell_type": "code",
      "source": [
        "long_text = \"\"\"\n",
        "Artificial intelligence (AI) is intelligence demonstrated by machines, in contrast to the natural intelligence displayed by humans and animals. Leading AI textbooks define the field as the study of \"intelligent agents\": any device that perceives its environment and takes actions that maximize its chance of successfully achieving its goals. Colloquially, the term \"artificial intelligence\" is often used to describe machines (or computers) that mimic \"cognitive\" functions that humans associate with the human mind, such as \"learning\" and \"problem-solving\".\n",
        "\"\"\"\n",
        "\n",
        "response = openai.chat.completions.create(\n",
        "  model=\"gpt-3.5-turbo\",\n",
        "  messages=[\n",
        "        {\"role\": \"system\", \"content\": \"You are a helpful assistant.\"},\n",
        "        {\"role\": \"user\", \"content\": f\"Summarize the following text:\\n\\n{long_text}\"}\n",
        "    ]\n",
        ")\n",
        "\n",
        "# Print the summary\n",
        "print(response.choices[0].message.content.strip())"
      ],
      "metadata": {
        "colab": {
          "base_uri": "https://localhost:8080/"
        },
        "id": "5NUYyCiPEvtX",
        "outputId": "9d91937d-992b-4b15-b986-c167898745a0"
      },
      "execution_count": null,
      "outputs": [
        {
          "output_type": "stream",
          "name": "stdout",
          "text": [
            "Artificial intelligence (AI) refers to machines demonstrating intelligence as opposed to natural intelligence exhibited by humans and animals. AI involves the study of intelligent agents, which are devices perceiving their environment and taking actions to achieve their goals. It is often associated with machines that simulate cognitive functions like learning and problem-solving typically attributed to the human mind.\n"
          ]
        }
      ]
    },
    {
      "cell_type": "markdown",
      "source": [
        "### **Step 4: Example 2 - Conversational Agent**\n",
        "\n",
        "Now, let's build a simple conversational agent that can hold a conversation with the user."
      ],
      "metadata": {
        "id": "TLwte6YQEj5X"
      }
    },
    {
      "cell_type": "code",
      "source": [
        "def chat_with_openai(prompt):\n",
        "    response = openai.chat.completions.create(\n",
        "      model=\"gpt-3.5-turbo\",\n",
        "      messages=[\n",
        "            {\"role\": \"system\", \"content\": \"You are a helpful assistant.\"},\n",
        "            {\"role\": \"user\", \"content\": prompt}\n",
        "        ]\n",
        "    )\n",
        "    return response.choices[0].message.content.strip()\n",
        "\n",
        "# Example conversation\n",
        "user_input = \"Hello, who are you?\"\n",
        "print(\"User: \", user_input)\n",
        "response = chat_with_openai(user_input)\n",
        "print(\"Bot: \", response)\n",
        "\n",
        "user_input = \"What can you do?\"\n",
        "print(\"User: \", user_input)\n",
        "response = chat_with_openai(user_input)\n",
        "print(\"Bot: \", response)"
      ],
      "metadata": {
        "colab": {
          "base_uri": "https://localhost:8080/"
        },
        "id": "kT4CL38NEj_n",
        "outputId": "98a9e3f8-de22-4046-c22e-e2300d8ff37d"
      },
      "execution_count": null,
      "outputs": [
        {
          "output_type": "stream",
          "name": "stdout",
          "text": [
            "User:  Hello, who are you?\n",
            "Bot:  Hello! I am a helpful assistant here to provide you with information and assistance. How can I help you today?\n",
            "User:  What can you do?\n",
            "Bot:  I can help answer questions, provide information on a wide range of topics, offer suggestions, assist with tasks, set reminders, and engage in casual conversation. Feel free to ask me anything!\n"
          ]
        }
      ]
    },
    {
      "cell_type": "markdown",
      "source": [
        "### **Step 5: Example 3 - Data Cleaning**\n",
        "\n",
        "Data cleaning is essential for preparing data for analysis. Here’s how you can use the OpenAI API to clean a messy dataset by standardizing entries."
      ],
      "metadata": {
        "id": "501XpawOEaa4"
      }
    },
    {
      "cell_type": "code",
      "source": [
        "messy_data = [\n",
        "    \"John Doe, 123 Elm St., 555-1234\",\n",
        "    \"jane_doe, 456 Maple Avenue, (555) 567-8901\",\n",
        "    \"Micheal,789 pine st, 555.678.9012\"\n",
        "]\n",
        "\n",
        "cleaned_data = []\n",
        "for entry in messy_data:\n",
        "    response = openai.chat.completions.create(\n",
        "      model=\"gpt-3.5-turbo\",\n",
        "      messages=[\n",
        "            {\"role\": \"system\", \"content\": \"You are a data cleaning assistant.\"},\n",
        "            {\"role\": \"user\", \"content\": f\"Clean and standardize the following data entry:\\n\\n{entry}\"}\n",
        "        ]\n",
        "    )\n",
        "    cleaned_data.append(response.choices[0].message.content.strip())\n",
        "\n",
        "# Print cleaned data\n",
        "for data in cleaned_data:\n",
        "    print(data)"
      ],
      "metadata": {
        "colab": {
          "base_uri": "https://localhost:8080/"
        },
        "id": "gqs3PN51Eas3",
        "outputId": "04e7e0f9-fff6-498a-e2bd-7872a9e1fd14"
      },
      "execution_count": null,
      "outputs": [
        {
          "output_type": "stream",
          "name": "stdout",
          "text": [
            "Here is the cleaned and standardized data entry:\n",
            "\n",
            "Name: John Doe\n",
            "Address: 123 Elm St.\n",
            "Phone: 555-1234\n",
            "Cleaned and standardized data entry:\n",
            "\n",
            "Name: Jane Doe\n",
            "Address: 456 Maple Avenue\n",
            "Phone Number: 555-567-8901\n",
            "Cleaned and standardized data entry:\n",
            "- Name: Michael\n",
            "- Address: 789 Pine St\n",
            "- Phone Number: 555-678-9012\n"
          ]
        }
      ]
    },
    {
      "cell_type": "markdown",
      "source": [
        "### **Step 6: Example 4 - Data Mapping**\n",
        "\n",
        "Data mapping involves transforming data from one format to another. In this example, we'll map data from a CSV format to a JSON format."
      ],
      "metadata": {
        "id": "cj5jgK2VEDN_"
      }
    },
    {
      "cell_type": "code",
      "source": [
        "csv_data = \"Name, Age, City\\nJohn Doe, 30, New York\\nJane Smith, 25, Los Angeles\"\n",
        "\n",
        "response = openai.chat.completions.create(\n",
        "  model=\"gpt-3.5-turbo\",\n",
        "  messages=[\n",
        "        {\"role\": \"system\", \"content\": \"You are a helpful assistant.\"},\n",
        "        {\"role\": \"user\", \"content\": f\"Convert the following CSV data to JSON format:\\n\\n{csv_data}\"}\n",
        "    ]\n",
        ")\n",
        "\n",
        "# Print the JSON output\n",
        "print(response.choices[0].message.content.strip())"
      ],
      "metadata": {
        "colab": {
          "base_uri": "https://localhost:8080/"
        },
        "id": "1zuraQQ_EDWo",
        "outputId": "7d454e35-215e-4555-bf8c-594fc530ce08"
      },
      "execution_count": null,
      "outputs": [
        {
          "output_type": "stream",
          "name": "stdout",
          "text": [
            "Sure, here is the CSV data converted to JSON format:\n",
            "\n",
            "```json\n",
            "[\n",
            "    {\n",
            "        \"Name\": \"John Doe\",\n",
            "        \"Age\": 30,\n",
            "        \"City\": \"New York\"\n",
            "    },\n",
            "    {\n",
            "        \"Name\": \"Jane Smith\",\n",
            "        \"Age\": 25,\n",
            "        \"City\": \"Los Angeles\"\n",
            "    }\n",
            "]\n",
            "```\n"
          ]
        }
      ]
    },
    {
      "cell_type": "markdown",
      "source": [
        "### **Step 7: Example 5 - Data Analytics**\n",
        "\n",
        "For analytics, let's ask the OpenAI API to generate insights from a dataset."
      ],
      "metadata": {
        "id": "LXibRKU2EDhg"
      }
    },
    {
      "cell_type": "code",
      "source": [
        "dataset_description = \"\"\"\n",
        "We have sales data for the first quarter of 2024. The data includes the following:\n",
        "- January: $100,000\n",
        "- February: $120,000\n",
        "- March: $110,000\n",
        "\"\"\"\n",
        "\n",
        "response = openai.chat.completions.create(\n",
        "  model=\"gpt-3.5-turbo\",\n",
        "  messages=[\n",
        "        {\"role\": \"system\", \"content\": \"You are a data analyst.\"},\n",
        "        {\"role\": \"user\", \"content\": f\"Analyze the following sales data and provide insights:\\n\\n{dataset_description}\"}\n",
        "    ]\n",
        ")\n",
        "\n",
        "# Print the analytical insights\n",
        "print(response.choices[0].message.content.strip())"
      ],
      "metadata": {
        "colab": {
          "base_uri": "https://localhost:8080/"
        },
        "id": "x6J-eDhFEDqG",
        "outputId": "459542c4-f931-4e5b-c544-ac52f863db74"
      },
      "execution_count": null,
      "outputs": [
        {
          "output_type": "stream",
          "name": "stdout",
          "text": [
            "To analyze the sales data for the first quarter of 2024, let's first calculate the total sales for the quarter and then derive some insights from the data:\n",
            "\n",
            "Total Sales for Q1 2024:\n",
            "January: $100,000\n",
            "February: $120,000\n",
            "March: $110,000\n",
            "\n",
            "Total Sales = January Sales + February Sales + March Sales\n",
            "Total Sales = $100,000 + $120,000 + $110,000\n",
            "Total Sales = $330,000\n",
            "\n",
            "Insights:\n",
            "1. Total sales for the first quarter of 2024 were $330,000.\n",
            "2. February had the highest sales at $120,000, followed by March at $110,000, and January at $100,000.\n",
            "3. The sales trend shows an increase from January to February, but a slight decrease from February to March. Further analysis could be done to understand the factors contributing to these trends.\n",
            "4. Comparing the monthly sales figures could help identify any seasonality or trends in customer behavior that could be leveraged for future sales strategies.\n",
            "\n",
            "Overall, the sales data indicates a decent performance for the first quarter of 2024 with room for further analysis to optimize sales strategies in the upcoming quarters.\n"
          ]
        }
      ]
    },
    {
      "cell_type": "markdown",
      "source": [
        "### **Further Reading and Resources**\n",
        "\n",
        "- [OpenAI API Documentation](https://beta.openai.com/docs/)\n",
        "- [OpenAI Python Client Library](https://github.com/openai/openai-python)\n",
        "- [Colab Notebook Examples](https://colab.research.google.com/)"
      ],
      "metadata": {
        "id": "I7Z4hemDEGvg"
      }
    }
  ]
}